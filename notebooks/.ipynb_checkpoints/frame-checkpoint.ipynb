{
 "cells": [
  {
   "cell_type": "code",
   "execution_count": null,
   "id": "926b7cc5",
   "metadata": {},
   "outputs": [],
   "source": [
    "import numpy as np\n",
    "import scipy \n",
    "import pandas as pd \n",
    "import matplotlib.pyplot as plt\n",
    "import tables \n",
    "\n",
    "\n",
    "class Plotter:\n",
    "    def __init__(self, asml_file):\n",
    "        self.file = asml_file \n",
    "\n",
    "    def plot(self, saveas, frame):\n",
    "        fig = plt.figure(figsize=(8, 8))\n",
    "        ax = fig.add_subplot(111)\n",
    "        h5 = tables.open_file(self.file, mode='r')\n",
    "        X = np.array(getattr(h5.root.particles, 'time_' + str(frame)).read().tolist())\n",
    "        ax.scatter(X[:, 0], X[:, 1], label='PF', marker='?') \n",
    "        plt.show()"
   ]
  }
 ],
 "metadata": {
  "kernelspec": {
   "display_name": "Python 3 (ipykernel)",
   "language": "python",
   "name": "python3"
  },
  "language_info": {
   "codemirror_mode": {
    "name": "ipython",
    "version": 3
   },
   "file_extension": ".py",
   "mimetype": "text/x-python",
   "name": "python",
   "nbconvert_exporter": "python",
   "pygments_lexer": "ipython3",
   "version": "3.9.9"
  }
 },
 "nbformat": 4,
 "nbformat_minor": 5
}
